{
 "cells": [
  {
   "cell_type": "code",
   "execution_count": 2,
   "metadata": {},
   "outputs": [
    {
     "data": {
      "text/plain": [
       "Day\n",
       "2020-12-01    แดดร้อน\n",
       "2020-12-02     เมฆมาก\n",
       "2020-12-03       ฝนตก\n",
       "Name: Event, dtype: object"
      ]
     },
     "execution_count": 2,
     "metadata": {},
     "output_type": "execute_result"
    }
   ],
   "source": [
    "import pandas as pd\n",
    "\n",
    "df = pd.read_excel(\"dataupdate.xlsx\", \"weather\",index_col=\"Day\")\n",
    "df[0:3].Event"
   ]
  },
  {
   "cell_type": "code",
   "execution_count": 5,
   "metadata": {},
   "outputs": [
    {
     "data": {
      "text/plain": [
       "Day\n",
       "2020-12-02     เมฆมาก\n",
       "2020-12-03       ฝนตก\n",
       "2020-12-04    แดดร้อน\n",
       "2020-12-05     เมฆมาก\n",
       "2020-12-06       ฝนตก\n",
       "2020-12-07       ฝนตก\n",
       "2020-12-08       ฝนตก\n",
       "2020-12-09     เมฆมาก\n",
       "2020-12-10    แดดร้อน\n",
       "2020-12-11       ฝนตก\n",
       "2020-12-12    แดดร้อน\n",
       "2020-12-13    แดดร้อน\n",
       "2020-12-14     เมฆมาก\n",
       "2020-12-15    แดดร้อน\n",
       "Name: Event, dtype: object"
      ]
     },
     "execution_count": 5,
     "metadata": {},
     "output_type": "execute_result"
    }
   ],
   "source": [
    "df.loc[\"2020-12-02\":\"2020-12-15\"][\"Event\"]"
   ]
  }
 ],
 "metadata": {
  "kernelspec": {
   "display_name": "Python 3",
   "language": "python",
   "name": "python3"
  },
  "language_info": {
   "codemirror_mode": {
    "name": "ipython",
    "version": 3
   },
   "file_extension": ".py",
   "mimetype": "text/x-python",
   "name": "python",
   "nbconvert_exporter": "python",
   "pygments_lexer": "ipython3",
   "version": "3.11.4"
  },
  "orig_nbformat": 4
 },
 "nbformat": 4,
 "nbformat_minor": 2
}
